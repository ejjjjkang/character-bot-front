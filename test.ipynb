{
 "cells": [
  {
   "cell_type": "code",
   "execution_count": 59,
   "id": "9475fe08",
   "metadata": {},
   "outputs": [],
   "source": [
    "from openai import OpenAI\n"
   ]
  },
  {
   "cell_type": "code",
   "execution_count": 60,
   "id": "0045a9ec",
   "metadata": {},
   "outputs": [],
   "source": [
    "from dotenv import load_dotenv\n",
    "import os\n",
    "\n",
    "load_dotenv()\n",
    "api_key = os.environ[\"OPENAI_API\"]"
   ]
  },
  {
   "cell_type": "markdown",
   "id": "1a9f0013",
   "metadata": {},
   "source": [
    "### import DB\n",
    "\n",
    "import csv into db (https://www.sqlitetutorial.net/sqlite-import-csv/)\n"
   ]
  },
  {
   "cell_type": "code",
   "execution_count": 61,
   "id": "e3ce23f7",
   "metadata": {},
   "outputs": [],
   "source": [
    "from peewee import *\n",
    "\n",
    "database = SqliteDatabase('postings')\n",
    "\n",
    "class UnknownField(object):\n",
    "    def __init__(self, *_, **__): pass\n",
    "\n",
    "class BaseModel(Model):\n",
    "    class Meta:\n",
    "        database = database\n",
    "\n",
    "class Postings(BaseModel):\n",
    "    date = TextField(null=True)\n",
    "    reactions = TextField(null=True)\n",
    "    text = TextField(null=True)\n",
    "\n",
    "    class Meta:\n",
    "        table_name = 'postings'\n",
    "        primary_key = False\n"
   ]
  },
  {
   "cell_type": "code",
   "execution_count": 62,
   "id": "66636e84",
   "metadata": {},
   "outputs": [],
   "source": [
    "text = []\n",
    "\n",
    "for posting in Postings.select():\n",
    "    text.append(posting.text)"
   ]
  },
  {
   "cell_type": "code",
   "execution_count": 63,
   "id": "856e7822",
   "metadata": {},
   "outputs": [],
   "source": [
    "reactions = []\n",
    "\n",
    "for posting in Postings.select():\n",
    "    reactions.append(posting.reactions)"
   ]
  },
  {
   "cell_type": "markdown",
   "id": "6b516a8e",
   "metadata": {},
   "source": [
    "### Context Extraction"
   ]
  },
  {
   "cell_type": "code",
   "execution_count": 64,
   "id": "3507bb79",
   "metadata": {},
   "outputs": [],
   "source": [
    "context_prompt_template = \"\"\"\n",
    "Extract a writer's personalities, life styles, hobbies from social media posts. The personalities and the hobbies may be multiple attributes.\n",
    "\n",
    "INPUT: {text}\n",
    "Output should be a JSON object like this:\n",
    "\n",
    "{\n",
    "personalities: [xx, xx, ..],\n",
    "life styles: [xx, xx, ..],\n",
    "hobbies: [xx, ...]\n",
    "}\n",
    "\n",
    "\"\"\""
   ]
  },
  {
   "cell_type": "code",
   "execution_count": 65,
   "id": "89eb6c5a",
   "metadata": {},
   "outputs": [],
   "source": [
    "client = OpenAI( api_key=api_key )\n",
    "\n",
    "completion = client.chat.completions.create(\n",
    "  model=\"gpt-3.5-turbo\",\n",
    "  response_format=  { \"type\": \"json_object\" },\n",
    "  messages=[\n",
    "     {\n",
    "        \"role\": \"system\",\n",
    "        \"content\": \"I am helpful system which is good at extracting information from data\"\n",
    "      },\n",
    "      {\n",
    "        \"role\": \"user\",\n",
    "        \"content\":  context_prompt_template\n",
    "      }\n",
    "  ]\n",
    ")\n",
    "\n",
    "style = []\n",
    "style.append(completion.choices[0].message.content)"
   ]
  },
  {
   "cell_type": "code",
   "execution_count": 66,
   "id": "a15588f1",
   "metadata": {},
   "outputs": [
    {
     "name": "stdout",
     "output_type": "stream",
     "text": [
      "['{\\n    \"personalities\": [\"creative\", \"intellectual\", \"outgoing\"],\\n    \"life styles\": [\"entrepreneurial\", \"adventurous\"],\\n    \"hobbies\": [\"writing\", \"hiking\", \"reading\"]\\n}']\n"
     ]
    }
   ],
   "source": [
    "print(style)"
   ]
  },
  {
   "cell_type": "markdown",
   "id": "a2a6eb29",
   "metadata": {},
   "source": [
    "### Style Extraction"
   ]
  },
  {
   "cell_type": "code",
   "execution_count": 67,
   "id": "55c3e431",
   "metadata": {},
   "outputs": [],
   "source": [
    "style_prompt_template = \"\"\"\n",
    "Extract social media post's language tones, well-used emojis, and general writing topics written from social media posts. The styles and the topics may be multiple attributes.\n",
    "\n",
    "INPUT: {text}\n",
    "Output should be a JSON object like this:\n",
    "\n",
    "{\n",
    "language tones: [xx, xx, ..],\n",
    "emojis: [xx, ...],\n",
    "writing_topics: [xx, ...],\n",
    "}\n",
    "\n",
    "\"\"\""
   ]
  },
  {
   "cell_type": "code",
   "execution_count": 68,
   "id": "7367df15",
   "metadata": {},
   "outputs": [],
   "source": [
    "client = OpenAI( api_key=api_key )\n",
    "\n",
    "completion = client.chat.completions.create(\n",
    "  model=\"gpt-3.5-turbo\",\n",
    "  response_format=  { \"type\": \"json_object\" },\n",
    "  messages=[\n",
    "     {\n",
    "        \"role\": \"system\",\n",
    "        \"content\": \"I am helpful system which is good at extracting information from data\"\n",
    "      },\n",
    "      {\n",
    "        \"role\": \"user\",\n",
    "        \"content\":  style_prompt_template\n",
    "      }\n",
    "  ]\n",
    ")\n",
    "\n",
    "style_2 = []\n",
    "style_2.append(completion.choices[0].message.content)"
   ]
  },
  {
   "cell_type": "code",
   "execution_count": 69,
   "id": "9a47ff89",
   "metadata": {},
   "outputs": [
    {
     "name": "stdout",
     "output_type": "stream",
     "text": [
      "['{\\n   \"language tones\": [\"informal\", \"positive\", \"enthusiastic\"],\\n   \"emojis\": [\"😂\", \"🎉\", \"❤️\"],\\n   \"writing_topics\": [\"food\", \"travel\", \"music\"]\\n}']\n"
     ]
    }
   ],
   "source": [
    "print(style_2)"
   ]
  },
  {
   "cell_type": "code",
   "execution_count": 70,
   "id": "ccda2c7a",
   "metadata": {},
   "outputs": [],
   "source": [
    "test_comment = \"I mean sure some are big or whatever, but honestly, everything looks good on you!! 🫶🏻\""
   ]
  },
  {
   "cell_type": "code",
   "execution_count": 77,
   "id": "8503ce0d",
   "metadata": {},
   "outputs": [],
   "source": [
    "response_prompt_template = \"\"\"\n",
    "Write a response to test_comment based on writing style and life style. The response should consider a language tone, emojis, and topic of the {test_comment}, then choose how to response it in style.\n",
    "\n",
    "life style: {style}\n",
    "writing_style: {style_2}\n",
    "test_comment: {test_comment}\n",
    "\n",
    "\"\"\n",
    "Output should be a JSON object like this:\n",
    "\n",
    "{\n",
    "response: xx\n",
    "}\n",
    "\n",
    "\"\"\""
   ]
  },
  {
   "cell_type": "code",
   "execution_count": 72,
   "id": "b7f39fc0",
   "metadata": {},
   "outputs": [],
   "source": [
    "completion = client.chat.completions.create(\n",
    "  model=\"gpt-3.5-turbo\",\n",
    "  response_format=  { \"type\": \"json_object\" },\n",
    "  messages=[\n",
    "     {\n",
    "        \"role\": \"system\",\n",
    "        \"content\": \"I am a message writing assistant that write responses considering language tones, emojis, and writing topics\"\n",
    "      },\n",
    "      {\n",
    "        \"role\": \"user\",\n",
    "        \"content\": response_prompt_template\n",
    "      }\n",
    "  ]\n",
    ")"
   ]
  },
  {
   "cell_type": "code",
   "execution_count": 73,
   "id": "6ed3c18a",
   "metadata": {},
   "outputs": [
    {
     "data": {
      "text/plain": [
       "'{\\n\"response\": \"Wow, your writing style is so eloquent and sophisticated! 🌟 It\\'s clear that you have a deep appreciation for language. Keep shining bright with your unique voice! ✨\"\\n}'"
      ]
     },
     "execution_count": 73,
     "metadata": {},
     "output_type": "execute_result"
    }
   ],
   "source": [
    "completion.choices[0].message.content"
   ]
  },
  {
   "cell_type": "markdown",
   "id": "c232b483",
   "metadata": {},
   "source": [
    "### Identify intent"
   ]
  },
  {
   "cell_type": "code",
   "execution_count": 74,
   "id": "74f06d64",
   "metadata": {},
   "outputs": [],
   "source": [
    "intent_prompt_template = \"\"\"\n",
    "Extract social media post's writing styles and general writing topics written from social media post. The styles and the topics may be multiple attributes.\n",
    "\n",
    "INPUT: {reactions}\n",
    "Output should be a JSON object like this:\n",
    "\n",
    "{\n",
    "response: xx\n",
    "}\n",
    "\n",
    "\"\"\""
   ]
  },
  {
   "cell_type": "markdown",
   "id": "6e9680e3",
   "metadata": {},
   "source": [
    "### Message suggestion"
   ]
  },
  {
   "cell_type": "code",
   "execution_count": 75,
   "id": "82f7beae",
   "metadata": {},
   "outputs": [],
   "source": [
    "prompt_template = \"\"\"\n",
    "\n",
    "Provide an appropriate response based on given intent of the sender, style of the user, and the context of the user. \n",
    "\n",
    "INPUT: {text}\n",
    "Output should be a JSON object like this:\n",
    "\n",
    "{\n",
    "intent: XX,\n",
    "response: XX\n",
    "}\n",
    "\n",
    "\"\"\""
   ]
  },
  {
   "cell_type": "markdown",
   "id": "34421dd7",
   "metadata": {},
   "source": [
    "### Error correction"
   ]
  },
  {
   "cell_type": "markdown",
   "id": "95a3bc7b",
   "metadata": {},
   "source": []
  }
 ],
 "metadata": {
  "kernelspec": {
   "display_name": "env",
   "language": "python",
   "name": "python3"
  },
  "language_info": {
   "codemirror_mode": {
    "name": "ipython",
    "version": 3
   },
   "file_extension": ".py",
   "mimetype": "text/x-python",
   "name": "python",
   "nbconvert_exporter": "python",
   "pygments_lexer": "ipython3",
   "version": "3.9.12"
  }
 },
 "nbformat": 4,
 "nbformat_minor": 5
}
